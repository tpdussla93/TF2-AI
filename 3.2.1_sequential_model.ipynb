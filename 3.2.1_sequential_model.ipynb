{
 "cells": [
  {
   "cell_type": "markdown",
   "metadata": {},
   "source": [
    "## 3.2 케라스를 이용한 구현"
   ]
  },
  {
   "cell_type": "markdown",
   "metadata": {
    "id": "ZsYweEXsF1Ut"
   },
   "source": [
    "### Sequential 모델"
   ]
  },
  {
   "cell_type": "code",
   "execution_count": 1,
   "metadata": {
    "execution": {
     "iopub.execute_input": "2020-09-23T04:03:40.237680Z",
     "iopub.status.busy": "2020-09-23T04:03:40.237047Z",
     "iopub.status.idle": "2020-09-23T04:03:46.461327Z",
     "shell.execute_reply": "2020-09-23T04:03:46.460675Z"
    },
    "id": "kPfh5AQ8fFzQ"
   },
   "outputs": [],
   "source": [
    "import tensorflow as tf\n",
    "from tensorflow import keras\n",
    "from tensorflow.keras import layers"
   ]
  },
  {
   "cell_type": "markdown",
   "metadata": {
    "id": "H86UozfTDwPp"
   },
   "source": [
    "### Sequential 모델을 사용하는 경우\n",
    "\n",
    "`Sequential` 모델은 각 레이어에 **정확히 하나의 입력 텐서와 하나의 출력 텐서**가 있는 **일반 레이어 스택**에 적합합니다.\n",
    "\n",
    "개략적으로 다음과 같은 `Sequential` 모델은"
   ]
  },
  {
   "cell_type": "code",
   "execution_count": 2,
   "metadata": {
    "execution": {
     "iopub.execute_input": "2020-09-23T04:03:46.467154Z",
     "iopub.status.busy": "2020-09-23T04:03:46.466465Z",
     "iopub.status.idle": "2020-09-23T04:03:48.519729Z",
     "shell.execute_reply": "2020-09-23T04:03:48.519082Z"
    },
    "id": "ajdypoWBxCFi"
   },
   "outputs": [],
   "source": [
    "model = keras.Sequential(\n",
    "    [\n",
    "        layers.Dense(2, activation=\"relu\", name=\"layer1\"),\n",
    "        layers.Dense(3, activation=\"relu\", name=\"layer2\"),\n",
    "        layers.Dense(4, name=\"layer3\"),\n",
    "    ]\n",
    ")\n",
    "\n",
    "x = tf.ones((3, 3))\n",
    "y = model(x)"
   ]
  },
  {
   "cell_type": "markdown",
   "metadata": {
    "id": "m9gUL80fmFFo"
   },
   "source": [
    "다음 함수와 동일합니다."
   ]
  },
  {
   "cell_type": "code",
   "execution_count": 3,
   "metadata": {
    "execution": {
     "iopub.execute_input": "2020-09-23T04:03:48.528191Z",
     "iopub.status.busy": "2020-09-23T04:03:48.527423Z",
     "iopub.status.idle": "2020-09-23T04:03:48.536655Z",
     "shell.execute_reply": "2020-09-23T04:03:48.537091Z"
    },
    "id": "gqksyI6UN0U3"
   },
   "outputs": [],
   "source": [
    "layer1 = layers.Dense(2, activation=\"relu\", name=\"layer1\")\n",
    "layer2 = layers.Dense(3, activation=\"relu\", name=\"layer2\")\n",
    "layer3 = layers.Dense(4, name=\"layer3\")\n",
    "\n",
    "x = tf.ones((3, 3))\n",
    "y = layer3(layer2(layer1(x)))"
   ]
  },
  {
   "cell_type": "markdown",
   "metadata": {
    "id": "MqyEgCnQVf4w"
   },
   "source": [
    "Sequential 모델은 다음의 경우에 **적합하지 않습니다**.\n",
    "\n",
    "- 모델에 다중 입력 또는 다중 출력이 있습니다\n",
    "- 레이어에 다중 입력 또는 다중 출력이 있습니다\n",
    "- 레이어 공유를 해야 합니다\n",
    "- 비선형 토폴로지를 원합니다(예: 잔류 연결, 다중 분기 모델)"
   ]
  },
  {
   "cell_type": "markdown",
   "metadata": {
    "id": "sWxFjYzpKzUD"
   },
   "source": [
    "### Sequential 모델 생성하기\n",
    "\n",
    "레이어의 목록을 Sequential 생성자에 전달하여 Sequential 모델을 만들 수 있습니다."
   ]
  },
  {
   "cell_type": "code",
   "execution_count": 4,
   "metadata": {
    "execution": {
     "iopub.execute_input": "2020-09-23T04:03:48.545374Z",
     "iopub.status.busy": "2020-09-23T04:03:48.544679Z",
     "iopub.status.idle": "2020-09-23T04:03:48.549460Z",
     "shell.execute_reply": "2020-09-23T04:03:48.549875Z"
    },
    "id": "itLg7K6qTzVO"
   },
   "outputs": [],
   "source": [
    "model = keras.Sequential(\n",
    "    [\n",
    "        layers.Dense(2, activation=\"relu\"),\n",
    "        layers.Dense(3, activation=\"relu\"),\n",
    "        layers.Dense(4),\n",
    "    ]\n",
    ")"
   ]
  },
  {
   "cell_type": "markdown",
   "metadata": {
    "id": "g3fvbcVmCHEP"
   },
   "source": [
    "속한 레이어는 `layers` 속성을 통해 접근할 수 있습니다."
   ]
  },
  {
   "cell_type": "code",
   "execution_count": 5,
   "metadata": {
    "execution": {
     "iopub.execute_input": "2020-09-23T04:03:48.559195Z",
     "iopub.status.busy": "2020-09-23T04:03:48.558546Z",
     "iopub.status.idle": "2020-09-23T04:03:48.563436Z",
     "shell.execute_reply": "2020-09-23T04:03:48.563975Z"
    },
    "id": "Lwmuasfp5KXs"
   },
   "outputs": [
    {
     "data": {
      "text/plain": [
       "[<keras.layers.core.dense.Dense at 0x2ea187a7be0>,\n",
       " <keras.layers.core.dense.Dense at 0x2ea187a58d0>,\n",
       " <keras.layers.core.dense.Dense at 0x2ea187a72b0>]"
      ]
     },
     "execution_count": 5,
     "metadata": {},
     "output_type": "execute_result"
    }
   ],
   "source": [
    "model.layers"
   ]
  },
  {
   "cell_type": "markdown",
   "metadata": {
    "id": "qVNQRoWqJ3PY"
   },
   "source": [
    "`add()` 메서드를 통해 Sequential 모델을 점진적으로 작성할 수도 있습니다."
   ]
  },
  {
   "cell_type": "code",
   "execution_count": 6,
   "metadata": {
    "execution": {
     "iopub.execute_input": "2020-09-23T04:03:48.570264Z",
     "iopub.status.busy": "2020-09-23T04:03:48.569611Z",
     "iopub.status.idle": "2020-09-23T04:03:48.576262Z",
     "shell.execute_reply": "2020-09-23T04:03:48.576678Z"
    },
    "id": "2TD4yRflSEv6"
   },
   "outputs": [],
   "source": [
    "model = keras.Sequential()\n",
    "model.add(layers.Dense(2, activation=\"relu\"))\n",
    "model.add(layers.Dense(3, activation=\"relu\"))\n",
    "model.add(layers.Dense(4))"
   ]
  },
  {
   "cell_type": "markdown",
   "metadata": {
    "id": "PmunUrP7HhMI"
   },
   "source": [
    "레이어를 제거하는 `pop()` 메서드도 있습니다. Sequential 모델은 레이어의 리스트와 매우 유사하게 동작합니다."
   ]
  },
  {
   "cell_type": "code",
   "execution_count": 7,
   "metadata": {
    "execution": {
     "iopub.execute_input": "2020-09-23T04:03:48.580678Z",
     "iopub.status.busy": "2020-09-23T04:03:48.580032Z",
     "iopub.status.idle": "2020-09-23T04:03:48.582916Z",
     "shell.execute_reply": "2020-09-23T04:03:48.582424Z"
    },
    "id": "6INo3oxSLUbA"
   },
   "outputs": [
    {
     "name": "stdout",
     "output_type": "stream",
     "text": [
      "2\n"
     ]
    }
   ],
   "source": [
    "model.pop()\n",
    "print(len(model.layers))  "
   ]
  },
  {
   "cell_type": "markdown",
   "metadata": {
    "id": "AAvcsRrOxQ9W"
   },
   "source": [
    "또한 Sequential 생성자는 Keras의 모든 레이어 또는 모델과 마찬가지로 `name` 인수를 허용합니다. 이것은 의미론적으로 유의미한 이름으로 TensorBoard 그래프에 주석을 달 때 유용합니다."
   ]
  },
  {
   "cell_type": "code",
   "execution_count": 8,
   "metadata": {
    "execution": {
     "iopub.execute_input": "2020-09-23T04:03:48.589100Z",
     "iopub.status.busy": "2020-09-23T04:03:48.588477Z",
     "iopub.status.idle": "2020-09-23T04:03:48.595572Z",
     "shell.execute_reply": "2020-09-23T04:03:48.594982Z"
    },
    "id": "s8oN1kMYqSuD"
   },
   "outputs": [],
   "source": [
    "model = keras.Sequential(name=\"my_sequential\")\n",
    "model.add(layers.Dense(2, activation=\"relu\", name=\"layer1\"))\n",
    "model.add(layers.Dense(3, activation=\"relu\", name=\"layer2\"))\n",
    "model.add(layers.Dense(4, name=\"layer3\"))"
   ]
  },
  {
   "cell_type": "markdown",
   "metadata": {
    "id": "PqGh2rmljliN"
   },
   "source": [
    "### 미리 입력 형상 지정하기\n",
    "\n",
    "일반적으로 Keras의 모든 레이어는 가중치를 만들려면 입력의 형상을 알아야 합니다. 따라서 다음과 같은 레이어를 만들면 처음에는 가중치가 없습니다."
   ]
  },
  {
   "cell_type": "code",
   "execution_count": 9,
   "metadata": {
    "execution": {
     "iopub.execute_input": "2020-09-23T04:03:48.600433Z",
     "iopub.status.busy": "2020-09-23T04:03:48.599753Z",
     "iopub.status.idle": "2020-09-23T04:03:48.602724Z",
     "shell.execute_reply": "2020-09-23T04:03:48.602137Z"
    },
    "id": "tW04KX032Ol9"
   },
   "outputs": [
    {
     "data": {
      "text/plain": [
       "[]"
      ]
     },
     "execution_count": 9,
     "metadata": {},
     "output_type": "execute_result"
    }
   ],
   "source": [
    "layer = layers.Dense(3)\n",
    "layer.weights  "
   ]
  },
  {
   "cell_type": "markdown",
   "metadata": {
    "id": "NU0Ai9lbGUKA"
   },
   "source": [
    "가중치는 모양이 입력의 형상에 따라 달라지기 때문에 입력에서 처음 호출될 때 가중치를 만듭니다."
   ]
  },
  {
   "cell_type": "code",
   "execution_count": 10,
   "metadata": {
    "execution": {
     "iopub.execute_input": "2020-09-23T04:03:48.607253Z",
     "iopub.status.busy": "2020-09-23T04:03:48.606637Z",
     "iopub.status.idle": "2020-09-23T04:03:48.613627Z",
     "shell.execute_reply": "2020-09-23T04:03:48.613049Z"
    },
    "id": "OqSj1TLCU1vH"
   },
   "outputs": [
    {
     "data": {
      "text/plain": [
       "[<tf.Variable 'dense_6/kernel:0' shape=(4, 3) dtype=float32, numpy=\n",
       " array([[-0.4441235 ,  0.2121886 , -0.03958333],\n",
       "        [ 0.4195751 , -0.09102201,  0.7704048 ],\n",
       "        [-0.764909  , -0.27497667, -0.63498735],\n",
       "        [-0.6983758 ,  0.5078819 , -0.17136121]], dtype=float32)>,\n",
       " <tf.Variable 'dense_6/bias:0' shape=(3,) dtype=float32, numpy=array([0., 0., 0.], dtype=float32)>]"
      ]
     },
     "execution_count": 10,
     "metadata": {},
     "output_type": "execute_result"
    }
   ],
   "source": [
    "x = tf.ones((1, 4))\n",
    "y = layer(x)\n",
    "layer.weights  "
   ]
  },
  {
   "cell_type": "markdown",
   "metadata": {
    "id": "CDF0sLoVrGdU"
   },
   "source": [
    "당연히 이것은 Sequential 모델에도 적용됩니다. 입력 형상이 없는 Sequential 모델을 인스턴스화할 때는 \"빌드\"되지 않습니다. 가중치가 없습니다(그리고 `model.weights`를 호출하면 오류가 발생함). 모델에 처음 입력 데이터가 표시되면 가중치가 생성됩니다."
   ]
  },
  {
   "cell_type": "code",
   "execution_count": 23,
   "metadata": {
    "execution": {
     "iopub.execute_input": "2020-09-23T04:03:48.621884Z",
     "iopub.status.busy": "2020-09-23T04:03:48.621259Z",
     "iopub.status.idle": "2020-09-23T04:03:48.645022Z",
     "shell.execute_reply": "2020-09-23T04:03:48.644432Z"
    },
    "id": "ovoPw8Ncbevb"
   },
   "outputs": [
    {
     "name": "stdout",
     "output_type": "stream",
     "text": [
      "weights[0] = dense_43/kernel:0\n",
      "[[-0.94046044 -0.00958014]\n",
      " [ 0.67068005  0.17483878]\n",
      " [ 0.50995994 -0.763247  ]\n",
      " [-0.05868912  0.33657622]]\n",
      "\n",
      "weights[1] = dense_43/bias:0\n",
      "[0. 0.]\n",
      "\n",
      "weights[2] = dense_44/kernel:0\n",
      "[[ 0.5630655  -0.62348694  0.9331384 ]\n",
      " [ 1.0583487   0.672593   -0.39086586]]\n",
      "\n",
      "weights[3] = dense_44/bias:0\n",
      "[0. 0. 0.]\n",
      "\n",
      "weights[4] = dense_45/kernel:0\n",
      "[[-0.8648149  -0.5868753  -0.9068501   0.1667881 ]\n",
      " [ 0.7519375  -0.5386523   0.5179932   0.12430656]\n",
      " [-0.5806255  -0.19936866  0.88470626  0.20879793]]\n",
      "\n",
      "weights[5] = dense_45/bias:0\n",
      "[0. 0. 0. 0.]\n",
      "\n"
     ]
    }
   ],
   "source": [
    "model = keras.Sequential(\n",
    "    [\n",
    "        layers.Dense(2, activation=\"relu\"),\n",
    "        layers.Dense(3, activation=\"relu\"),\n",
    "        layers.Dense(4),\n",
    "    ]\n",
    ")  \n",
    "\n",
    "x = tf.ones((1, 4))\n",
    "y = model(x)\n",
    "\n",
    "for i, weight in enumerate(model.weights):\n",
    "    print(f'weights[{i}] = {weight.name}\\n{weight.numpy()}\\n')"
   ]
  },
  {
   "cell_type": "markdown",
   "metadata": {
    "id": "laWJparrJg70"
   },
   "source": [
    "모델이 \"빌드\"되면, 그 내용을 표시하기 위해 `summary()` 메서드를 호출할 수 있습니다."
   ]
  },
  {
   "cell_type": "code",
   "execution_count": 24,
   "metadata": {
    "execution": {
     "iopub.execute_input": "2020-09-23T04:03:48.649365Z",
     "iopub.status.busy": "2020-09-23T04:03:48.648547Z",
     "iopub.status.idle": "2020-09-23T04:03:48.651650Z",
     "shell.execute_reply": "2020-09-23T04:03:48.652098Z"
    },
    "id": "mY2X9QbgabHu"
   },
   "outputs": [
    {
     "name": "stdout",
     "output_type": "stream",
     "text": [
      "Model: \"sequential_15\"\n",
      "_________________________________________________________________\n",
      " Layer (type)                Output Shape              Param #   \n",
      "=================================================================\n",
      " dense_43 (Dense)            (1, 2)                    10        \n",
      "                                                                 \n",
      " dense_44 (Dense)            (1, 3)                    9         \n",
      "                                                                 \n",
      " dense_45 (Dense)            (1, 4)                    16        \n",
      "                                                                 \n",
      "=================================================================\n",
      "Total params: 35\n",
      "Trainable params: 35\n",
      "Non-trainable params: 0\n",
      "_________________________________________________________________\n"
     ]
    }
   ],
   "source": [
    "model.summary()"
   ]
  },
  {
   "cell_type": "markdown",
   "metadata": {
    "id": "1ZDoaIHvwSmw"
   },
   "source": [
    "그러나 현재 출력 형상을 포함하여 지금까지 모델의 요약을 표시할 수 있도록 Sequential 모델을 점진적으로 빌드할 때 매우 유용할 수 있습니다. 이 경우 `Input` 객체를 모델에 전달하여 모델의 시작 형상을 알 수 있도록 모델을 시작해야 합니다."
   ]
  },
  {
   "cell_type": "code",
   "execution_count": 25,
   "metadata": {
    "execution": {
     "iopub.execute_input": "2020-09-23T04:03:48.658042Z",
     "iopub.status.busy": "2020-09-23T04:03:48.657423Z",
     "iopub.status.idle": "2020-09-23T04:03:48.671130Z",
     "shell.execute_reply": "2020-09-23T04:03:48.670522Z"
    },
    "id": "Wv9HeHEeCKAG"
   },
   "outputs": [
    {
     "name": "stdout",
     "output_type": "stream",
     "text": [
      "Model: \"sequential_16\"\n",
      "_________________________________________________________________\n",
      " Layer (type)                Output Shape              Param #   \n",
      "=================================================================\n",
      " dense_46 (Dense)            (None, 2)                 10        \n",
      "                                                                 \n",
      "=================================================================\n",
      "Total params: 10\n",
      "Trainable params: 10\n",
      "Non-trainable params: 0\n",
      "_________________________________________________________________\n"
     ]
    }
   ],
   "source": [
    "model = keras.Sequential()\n",
    "model.add(keras.Input(shape=(4,)))\n",
    "model.add(layers.Dense(2, activation=\"relu\"))\n",
    "\n",
    "model.summary()"
   ]
  },
  {
   "cell_type": "markdown",
   "metadata": {
    "id": "4rhwhV0mpu6m"
   },
   "source": [
    "`Input` 객체는 레이어가 아니므로 `model.layers`의 일부로 표시되지 않습니다."
   ]
  },
  {
   "cell_type": "code",
   "execution_count": 26,
   "metadata": {
    "execution": {
     "iopub.execute_input": "2020-09-23T04:03:48.675382Z",
     "iopub.status.busy": "2020-09-23T04:03:48.674759Z",
     "iopub.status.idle": "2020-09-23T04:03:48.677974Z",
     "shell.execute_reply": "2020-09-23T04:03:48.677408Z"
    },
    "id": "oCwEwMoy1B0A"
   },
   "outputs": [
    {
     "data": {
      "text/plain": [
       "[<keras.layers.core.dense.Dense at 0x2ea1ae914b0>]"
      ]
     },
     "execution_count": 26,
     "metadata": {},
     "output_type": "execute_result"
    }
   ],
   "source": [
    "model.layers"
   ]
  },
  {
   "cell_type": "markdown",
   "metadata": {
    "id": "xcKk9VmVY9of"
   },
   "source": [
    "간단한 대안은 첫 번째 레이어에 `input_shape` 인수를 전달하는 것입니다."
   ]
  },
  {
   "cell_type": "code",
   "execution_count": 27,
   "metadata": {
    "execution": {
     "iopub.execute_input": "2020-09-23T04:03:48.684182Z",
     "iopub.status.busy": "2020-09-23T04:03:48.683418Z",
     "iopub.status.idle": "2020-09-23T04:03:48.697717Z",
     "shell.execute_reply": "2020-09-23T04:03:48.697218Z"
    },
    "id": "FMe4x1CMP75N"
   },
   "outputs": [
    {
     "name": "stdout",
     "output_type": "stream",
     "text": [
      "Model: \"sequential_17\"\n",
      "_________________________________________________________________\n",
      " Layer (type)                Output Shape              Param #   \n",
      "=================================================================\n",
      " dense_47 (Dense)            (None, 2)                 10        \n",
      "                                                                 \n",
      "=================================================================\n",
      "Total params: 10\n",
      "Trainable params: 10\n",
      "Non-trainable params: 0\n",
      "_________________________________________________________________\n"
     ]
    }
   ],
   "source": [
    "model = keras.Sequential()\n",
    "model.add(layers.Dense(2, activation=\"relu\", input_shape=(4,)))\n",
    "\n",
    "model.summary()"
   ]
  },
  {
   "cell_type": "markdown",
   "metadata": {
    "id": "E8lMCSByqIqP"
   },
   "source": [
    "이처럼 사전 정의된 입력 모양으로 빌드된 모델은 항상 가중치를 가지며(데이터를 보기 전에도) 항상 정의된 출력 형상을 갖습니다.\n",
    "\n",
    "일반적으로 Sequential 모델의 입력 형상을 알고 있는 경우 항상 Sequential 모델의 입력 형상을 지정하는 것이 좋습니다."
   ]
  }
 ],
 "metadata": {
  "colab": {
   "collapsed_sections": [],
   "name": "sequential_model.ipynb",
   "toc_visible": true
  },
  "kernelspec": {
   "display_name": "Python 3.10.5 ('.venv': venv)",
   "language": "python",
   "name": "python3"
  },
  "language_info": {
   "codemirror_mode": {
    "name": "ipython",
    "version": 3
   },
   "file_extension": ".py",
   "mimetype": "text/x-python",
   "name": "python",
   "nbconvert_exporter": "python",
   "pygments_lexer": "ipython3",
   "version": "3.10.5"
  },
  "vscode": {
   "interpreter": {
    "hash": "eb1bacf077ed9b7db89eabb0d9092da33d9e6a64c9f4637d6488095aa0954d62"
   }
  }
 },
 "nbformat": 4,
 "nbformat_minor": 1
}
